{
 "cells": [
  {
   "cell_type": "markdown",
   "id": "a55b62d4",
   "metadata": {},
   "source": [
    "#    Numpy basics"
   ]
  },
  {
   "cell_type": "markdown",
   "id": "81f5d69c",
   "metadata": {},
   "source": [
    "## Modules\n",
    "1. Importing Numpy Library \n",
    "2. Dimensions\n",
    "3. Converting array to list \n",
    "4. Multiplying list using various method\n",
    "5. Matrices\n",
    "6. Matrix Multiplication\n",
    "7. Using Random variables and probabilistic functions"
   ]
  },
  {
   "cell_type": "markdown",
   "id": "1b85c578",
   "metadata": {},
   "source": [
    "## 1. Importing Library"
   ]
  },
  {
   "cell_type": "code",
   "execution_count": 55,
   "id": "c13eac1f",
   "metadata": {},
   "outputs": [],
   "source": [
    "import numpy as np\n",
    "from numpy import random"
   ]
  },
  {
   "cell_type": "code",
   "execution_count": 44,
   "id": "a6524b08",
   "metadata": {},
   "outputs": [
    {
     "name": "stdout",
     "output_type": "stream",
     "text": [
      "[1 2 3 4 5] [1, 2, 3, 4, 5]\n",
      "<class 'numpy.ndarray'> <class 'list'>\n"
     ]
    }
   ],
   "source": [
    "a = np.array([1,2,3,4,5])\n",
    "b = [1,2,3,4,5]\n",
    "print(a,b)\n",
    "print(type(a),type(b))"
   ]
  },
  {
   "cell_type": "code",
   "execution_count": 8,
   "id": "3565cc39",
   "metadata": {},
   "outputs": [
    {
     "name": "stdout",
     "output_type": "stream",
     "text": [
      "[1 2 3 4 5] <class 'numpy.ndarray'>\n"
     ]
    }
   ],
   "source": [
    "a = np.array((1,2,3,4,5))\n",
    "print(a,type(a))"
   ]
  },
  {
   "cell_type": "markdown",
   "id": "394f62dd",
   "metadata": {},
   "source": [
    "## 2. Dimensions"
   ]
  },
  {
   "cell_type": "markdown",
   "id": "1f96c2ec",
   "metadata": {},
   "source": [
    "### 0 Dimension"
   ]
  },
  {
   "cell_type": "code",
   "execution_count": 9,
   "id": "e67c1a26",
   "metadata": {},
   "outputs": [
    {
     "name": "stdout",
     "output_type": "stream",
     "text": [
      "9\n",
      "0\n"
     ]
    }
   ],
   "source": [
    "a = np.array(9)\n",
    "print(a)\n",
    "print(a.ndim)"
   ]
  },
  {
   "cell_type": "markdown",
   "id": "bdbbb3c9",
   "metadata": {},
   "source": [
    "### 1 Dimension"
   ]
  },
  {
   "cell_type": "code",
   "execution_count": 10,
   "id": "37273a64",
   "metadata": {},
   "outputs": [
    {
     "name": "stdout",
     "output_type": "stream",
     "text": [
      "[1 2 3 4 5]\n",
      "1\n"
     ]
    }
   ],
   "source": [
    "a = np.array([1,2,3,4,5])\n",
    "print(a)\n",
    "print(a.ndim)"
   ]
  },
  {
   "cell_type": "markdown",
   "id": "29761442",
   "metadata": {},
   "source": [
    "### 2 Dimensions"
   ]
  },
  {
   "cell_type": "code",
   "execution_count": 12,
   "id": "ed72dabf",
   "metadata": {},
   "outputs": [
    {
     "name": "stdout",
     "output_type": "stream",
     "text": [
      "[[1 2 3]\n",
      " [4 5 6]]\n",
      "2\n"
     ]
    }
   ],
   "source": [
    "a = np.array([[1,2,3],[4,5,6]]) #([[],[]]) Syntax representing dim\n",
    "print(a)\n",
    "print(a.ndim)"
   ]
  },
  {
   "cell_type": "markdown",
   "id": "f6928a8c",
   "metadata": {},
   "source": [
    "### 3 Dimensions "
   ]
  },
  {
   "cell_type": "code",
   "execution_count": 15,
   "id": "5e525682",
   "metadata": {},
   "outputs": [
    {
     "name": "stdout",
     "output_type": "stream",
     "text": [
      "[[[ 1  2  3]\n",
      "  [ 4  5  6]\n",
      "  [ 7  8  9]]\n",
      "\n",
      " [[10 11 12]\n",
      "  [13 14 15]\n",
      "  [16 17 18]]]\n",
      "3\n"
     ]
    }
   ],
   "source": [
    "a = np.array([[[1,2,3],[4,5,6],[7,8,9]],[[10,11,12],[13,14,15],[16,17,18]]])\n",
    "print(a)\n",
    "print(a.ndim)"
   ]
  },
  {
   "cell_type": "code",
   "execution_count": 20,
   "id": "bddbc84c",
   "metadata": {},
   "outputs": [
    {
     "data": {
      "text/plain": [
       "[4, 5, 6, 7, 8, 9]"
      ]
     },
     "execution_count": 20,
     "metadata": {},
     "output_type": "execute_result"
    }
   ],
   "source": [
    "#list\n",
    "l1 = [4,5,6,7,8,9]\n",
    "l1"
   ]
  },
  {
   "cell_type": "code",
   "execution_count": 25,
   "id": "e64b6282",
   "metadata": {},
   "outputs": [
    {
     "data": {
      "text/plain": [
       "array([4, 5, 6, 7, 8, 9])"
      ]
     },
     "execution_count": 25,
     "metadata": {},
     "output_type": "execute_result"
    }
   ],
   "source": [
    "#Array\n",
    "arr = np.array(l1)\n",
    "arr"
   ]
  },
  {
   "cell_type": "markdown",
   "id": "22eb9832",
   "metadata": {},
   "source": [
    "## 3. Converting array to list"
   ]
  },
  {
   "cell_type": "code",
   "execution_count": 21,
   "id": "46bc8340",
   "metadata": {},
   "outputs": [
    {
     "data": {
      "text/plain": [
       "[4, 5, 6, 7, 8, 9]"
      ]
     },
     "execution_count": 21,
     "metadata": {},
     "output_type": "execute_result"
    }
   ],
   "source": [
    "arr.tolist()"
   ]
  },
  {
   "cell_type": "markdown",
   "id": "dac1c7a7",
   "metadata": {},
   "source": [
    "## Multiplying each elements in the list by 4"
   ]
  },
  {
   "cell_type": "markdown",
   "id": "16f54d87",
   "metadata": {},
   "source": [
    "### Multiplying all the elements in the list by 4"
   ]
  },
  {
   "cell_type": "code",
   "execution_count": 22,
   "id": "ec6de2d8",
   "metadata": {},
   "outputs": [
    {
     "data": {
      "text/plain": [
       "array([16, 20, 24, 28, 32, 36])"
      ]
     },
     "execution_count": 22,
     "metadata": {},
     "output_type": "execute_result"
    }
   ],
   "source": [
    "arr*4"
   ]
  },
  {
   "cell_type": "markdown",
   "id": "748dffeb",
   "metadata": {},
   "source": [
    "### Multiplying all the elements in the list by 4 using default method"
   ]
  },
  {
   "cell_type": "code",
   "execution_count": 23,
   "id": "6da9af29",
   "metadata": {},
   "outputs": [
    {
     "data": {
      "text/plain": [
       "[16, 20, 24, 28, 32, 36]"
      ]
     },
     "execution_count": 23,
     "metadata": {},
     "output_type": "execute_result"
    }
   ],
   "source": [
    "l2 = [x*4 for x in l1]\n",
    "l2"
   ]
  },
  {
   "cell_type": "markdown",
   "id": "6e12132a",
   "metadata": {},
   "source": [
    "### Multiplying all the elements in the list by 4 using for loop method"
   ]
  },
  {
   "cell_type": "code",
   "execution_count": 24,
   "id": "e29d1ea2",
   "metadata": {
    "scrolled": true
   },
   "outputs": [
    {
     "data": {
      "text/plain": [
       "[16, 20, 24, 28, 32, 36]"
      ]
     },
     "execution_count": 24,
     "metadata": {},
     "output_type": "execute_result"
    }
   ],
   "source": [
    "l2 = []\n",
    "for i in l1:\n",
    "    l2.append(i*4)\n",
    "l2"
   ]
  },
  {
   "cell_type": "code",
   "execution_count": 28,
   "id": "32fbcb76",
   "metadata": {},
   "outputs": [
    {
     "name": "stdout",
     "output_type": "stream",
     "text": [
      "[[4, 5, 6, 7, 8, 9], [1, 2, 3, 4, 5]]\n"
     ]
    }
   ],
   "source": [
    "l2 = [1,2,3,4,5]\n",
    "l = [l1,l2]\n",
    "print(l)"
   ]
  },
  {
   "cell_type": "markdown",
   "id": "fe23a859",
   "metadata": {},
   "source": [
    "## 5. Matrices"
   ]
  },
  {
   "cell_type": "code",
   "execution_count": 30,
   "id": "1ac628cf",
   "metadata": {},
   "outputs": [
    {
     "data": {
      "text/plain": [
       "array([[1, 2, 3],\n",
       "       [4, 5, 6],\n",
       "       [7, 8, 9]])"
      ]
     },
     "execution_count": 30,
     "metadata": {},
     "output_type": "execute_result"
    }
   ],
   "source": [
    "l3 = [[1,2,3],[4,5,6],[7,8,9]]\n",
    "arr1 = np.array(l3)\n",
    "arr1"
   ]
  },
  {
   "cell_type": "code",
   "execution_count": 31,
   "id": "58d9686f",
   "metadata": {},
   "outputs": [
    {
     "data": {
      "text/plain": [
       "(3, 3)"
      ]
     },
     "execution_count": 31,
     "metadata": {},
     "output_type": "execute_result"
    }
   ],
   "source": [
    "#Shape of the Matrix\n",
    "arr1.shape "
   ]
  },
  {
   "cell_type": "markdown",
   "id": "e5adae2e",
   "metadata": {},
   "source": [
    "### Matrix Transpose"
   ]
  },
  {
   "cell_type": "code",
   "execution_count": 33,
   "id": "0e3727ad",
   "metadata": {},
   "outputs": [
    {
     "data": {
      "text/plain": [
       "array([[1, 4, 7],\n",
       "       [2, 5, 8],\n",
       "       [3, 6, 9]])"
      ]
     },
     "execution_count": 33,
     "metadata": {},
     "output_type": "execute_result"
    }
   ],
   "source": [
    "#Transpose Matrix\n",
    "arr1.T"
   ]
  },
  {
   "cell_type": "markdown",
   "id": "674b8862",
   "metadata": {},
   "source": [
    "## 6. Matrix Multiplication"
   ]
  },
  {
   "cell_type": "code",
   "execution_count": 34,
   "id": "d25bd616",
   "metadata": {},
   "outputs": [
    {
     "data": {
      "text/plain": [
       "array([[ 14,  32,  50],\n",
       "       [ 32,  77, 122],\n",
       "       [ 50, 122, 194]])"
      ]
     },
     "execution_count": 34,
     "metadata": {},
     "output_type": "execute_result"
    }
   ],
   "source": [
    "#Matrix Multiplication\n",
    "np.dot(arr1,arr1.T)"
   ]
  },
  {
   "cell_type": "markdown",
   "id": "386c534f",
   "metadata": {},
   "source": [
    "## 7. Using Random variables and probabilistic functions"
   ]
  },
  {
   "cell_type": "code",
   "execution_count": 47,
   "id": "d81aad32",
   "metadata": {},
   "outputs": [
    {
     "data": {
      "text/plain": [
       "array([[[ 33,   5, 157, ..., 120,  80, 158],\n",
       "        [249, 174,  70, ..., 195, 207, 217],\n",
       "        [ 29, 200, 182, ..., 205,  49,  86],\n",
       "        ...,\n",
       "        [208,  29, 172, ..., 210, 249,  61],\n",
       "        [161,  96, 246, ..., 175, 156, 170],\n",
       "        [158, 237, 148, ...,  54, 158, 130]],\n",
       "\n",
       "       [[ 11,  98, 107, ..., 127, 175, 103],\n",
       "        [109, 225,  67, ..., 240,  83,  21],\n",
       "        [150, 173, 175, ..., 251, 104, 239],\n",
       "        ...,\n",
       "        [252,  72, 110, ...,  39,  22, 223],\n",
       "        [109, 166,  30, ...,  10,  38,  57],\n",
       "        [110, 132, 204, ...,  35, 116, 254]],\n",
       "\n",
       "       [[139, 101, 120, ..., 196, 210, 227],\n",
       "        [ 90, 220, 125, ..., 242,  36,  56],\n",
       "        [115, 203,  23, ..., 223, 128, 247],\n",
       "        ...,\n",
       "        [253,  71,   0, ..., 234, 146,  91],\n",
       "        [128,  26,  29, ..., 252, 168,   8],\n",
       "        [189, 210, 187, ...,  45, 169, 130]]])"
      ]
     },
     "execution_count": 47,
     "metadata": {},
     "output_type": "execute_result"
    }
   ],
   "source": [
    "arr3 = np.random.randint(0,256,(3,28,28))\n",
    "#np.random.randint(initial,last - 1,(matrices number, row rank, colloumn rank ))\n",
    "arr3"
   ]
  },
  {
   "cell_type": "code",
   "execution_count": 49,
   "id": "a28c37e8",
   "metadata": {},
   "outputs": [
    {
     "data": {
      "text/plain": [
       "33"
      ]
     },
     "execution_count": 49,
     "metadata": {},
     "output_type": "execute_result"
    }
   ],
   "source": [
    "#locating the variable in array\n",
    "arr3[0,0,0]"
   ]
  },
  {
   "cell_type": "code",
   "execution_count": 53,
   "id": "9857f668",
   "metadata": {},
   "outputs": [
    {
     "data": {
      "text/plain": [
       "array([[[110,  87, 234],\n",
       "        [124,  11, 136],\n",
       "        [213, 252,  15]],\n",
       "\n",
       "       [[ 63, 210, 156],\n",
       "        [ 68, 105,  72],\n",
       "        [163,  70, 168]]])"
      ]
     },
     "execution_count": 53,
     "metadata": {},
     "output_type": "execute_result"
    }
   ],
   "source": [
    "arr1"
   ]
  },
  {
   "cell_type": "code",
   "execution_count": 54,
   "id": "a8213d8a",
   "metadata": {},
   "outputs": [
    {
     "data": {
      "text/plain": [
       "array([[110,  87, 234],\n",
       "       [ 63, 210, 156]])"
      ]
     },
     "execution_count": 54,
     "metadata": {},
     "output_type": "execute_result"
    }
   ],
   "source": [
    "# locating the first row \n",
    "arr1[:,0]"
   ]
  },
  {
   "cell_type": "code",
   "execution_count": 58,
   "id": "ed5c9be3",
   "metadata": {},
   "outputs": [
    {
     "data": {
      "text/plain": [
       "array([3, 4, 1, 5, 1, 5, 3, 1, 2, 2])"
      ]
     },
     "execution_count": 58,
     "metadata": {},
     "output_type": "execute_result"
    }
   ],
   "source": [
    "#printing random Variables\n",
    "x = random.randint(10, size=(10))\n",
    "x"
   ]
  },
  {
   "cell_type": "code",
   "execution_count": 59,
   "id": "b7594cc6",
   "metadata": {},
   "outputs": [
    {
     "name": "stdout",
     "output_type": "stream",
     "text": [
      "2.21\n"
     ]
    }
   ],
   "source": [
    "# printing root mean squre value \n",
    "print(np.var(x))"
   ]
  },
  {
   "cell_type": "code",
   "execution_count": 60,
   "id": "584f6802",
   "metadata": {},
   "outputs": [
    {
     "name": "stdout",
     "output_type": "stream",
     "text": [
      "1.4866068747318506\n",
      "2.7\n"
     ]
    }
   ],
   "source": [
    "#printing standard deviation and average \n",
    "print(np.std(x))\n",
    "print(np.average(x))"
   ]
  },
  {
   "cell_type": "code",
   "execution_count": 61,
   "id": "e6194a40",
   "metadata": {},
   "outputs": [
    {
     "data": {
      "text/plain": [
       "array([0, 1, 2, 3, 4, 5, 6, 7, 8, 9])"
      ]
     },
     "execution_count": 61,
     "metadata": {},
     "output_type": "execute_result"
    }
   ],
   "source": [
    "# printing variables \n",
    "x = np.arange(0,10,1)\n",
    "x"
   ]
  },
  {
   "cell_type": "code",
   "execution_count": 62,
   "id": "cc2ca5b5",
   "metadata": {},
   "outputs": [
    {
     "data": {
      "text/plain": [
       "array([0.        , 0.52359878, 0.78539816, 1.04719755, 1.57079633])"
      ]
     },
     "execution_count": 62,
     "metadata": {},
     "output_type": "execute_result"
    }
   ],
   "source": [
    "y = np.array([0,30,45,60,90])\n",
    "r = np.deg2rad(y)\n",
    "r"
   ]
  },
  {
   "cell_type": "code",
   "execution_count": 63,
   "id": "625315d9",
   "metadata": {},
   "outputs": [
    {
     "data": {
      "text/plain": [
       "array([0.        , 0.5       , 0.70710678, 0.8660254 , 1.        ])"
      ]
     },
     "execution_count": 63,
     "metadata": {},
     "output_type": "execute_result"
    }
   ],
   "source": [
    "s = np.sin(r)\n",
    "s"
   ]
  },
  {
   "cell_type": "code",
   "execution_count": null,
   "id": "153b91e7",
   "metadata": {},
   "outputs": [],
   "source": []
  }
 ],
 "metadata": {
  "kernelspec": {
   "display_name": "Python 3",
   "language": "python",
   "name": "python3"
  },
  "language_info": {
   "codemirror_mode": {
    "name": "ipython",
    "version": 3
   },
   "file_extension": ".py",
   "mimetype": "text/x-python",
   "name": "python",
   "nbconvert_exporter": "python",
   "pygments_lexer": "ipython3",
   "version": "3.9.5"
  }
 },
 "nbformat": 4,
 "nbformat_minor": 5
}
